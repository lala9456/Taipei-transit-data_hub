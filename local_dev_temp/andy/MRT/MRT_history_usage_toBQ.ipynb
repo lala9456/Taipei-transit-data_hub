{
 "cells": [
  {
   "cell_type": "code",
   "execution_count": 1,
   "metadata": {},
   "outputs": [],
   "source": [
    "import os\n",
    "import pandas as pd\n",
    "from google.cloud import bigquery\n",
    "from google.cloud import storage\n",
    "from google.oauth2.service_account import Credentials"
   ]
  },
  {
   "cell_type": "code",
   "execution_count": 2,
   "metadata": {},
   "outputs": [],
   "source": [
    "# BIGQUERY_CREDENTIALS_FILE_PATH = r\"D:\\data_engineer\\TIR_group2\\TIR101_Group2\\secrets\\harry_GCS_BigQuery_write_cred.json\"\n",
    "BIGQUERY_CREDENTIALS_FILE_PATH = r\"C:\\dev_TIR101\\Taipei-transit-data_hub\\airflow\\dags\\harry_GCS_BigQuery_write_cred.json\"\n",
    "os.environ[\"GOOGLE_APPLICATION_CREDENTIALS\"] = BIGQUERY_CREDENTIALS_FILE_PATH\n",
    "BQ_CLIENT = bigquery.Client()\n",
    "GCS_CLIENT = storage.Client()"
   ]
  },
  {
   "cell_type": "code",
   "execution_count": 3,
   "metadata": {},
   "outputs": [
    {
     "name": "stdout",
     "output_type": "stream",
     "text": [
      "MRT_history.SRC_MRT_history_usage has been created\n"
     ]
    }
   ],
   "source": [
    "def cteate_MRT_history_external_table(dataset_name:str,table_name:str,client:bigquery.Client=BQ_CLIENT):\n",
    "    query_job = client.query(\n",
    "        f\"\"\"\n",
    "    CREATE OR REPLACE EXTERNAL TABLE `{dataset_name}.{table_name}`\n",
    "    (\n",
    "        `date` DATE,\n",
    "        `hour` INT ,\n",
    "        `mrt_station_name_enter` STRING,\n",
    "        `mrt_station_name_exit` STRING,\n",
    "        `visitors_num` INT,\n",
    "    )\n",
    "    OPTIONS (\n",
    "        format = 'CSV',\n",
    "        uris = ['gs://mrt_history_usage/*.csv'],\n",
    "        skip_leading_rows = 1,\n",
    "        max_bad_records = 1,\n",
    "        encoding ='UTF-8'\n",
    "    );\n",
    "    \"\"\"\n",
    "    )\n",
    "    query_job.result()\n",
    "    print(f\"{dataset_name}.{table_name} has been created\")\n",
    "cteate_MRT_history_external_table(dataset_name=\"MRT_history\",table_name=\"SRC_MRT_history_usage\",client=BQ_CLIENT)"
   ]
  },
  {
   "cell_type": "code",
   "execution_count": 5,
   "metadata": {},
   "outputs": [
    {
     "name": "stdout",
     "output_type": "stream",
     "text": [
      "MRT_history.ODS_MRT_history_usage has been created\n"
     ]
    }
   ],
   "source": [
    "def cteate_MRT_history_ODS_table(dataset_name:str,create_table_name:str,SRC_table_name:str,client:bigquery.Client=BQ_CLIENT):\n",
    "    query_job = client.query(\n",
    "    f\"\"\"\n",
    "    CREATE OR REPLACE TABLE `{dataset_name}.{create_table_name}` AS\n",
    "    SELECT \n",
    "        date ,\n",
    "        hour ,\n",
    "        REGEXP_REPLACE(mrt_station_name_enter ,'[A-Za-z]','') AS mrt_station_name_enter,\n",
    "        REGEXP_REPLACE(mrt_station_name_exit ,'[A-Za-z]','') AS mrt_station_name_exit,\n",
    "        visitors_num,\n",
    "    FROM `{dataset_name}.{SRC_table_name}`\n",
    "    ;\n",
    "    \"\"\"\n",
    "    )\n",
    "    query_job.result()\n",
    "    print(f\"{dataset_name}.{create_table_name} has been created\")\n",
    "cteate_MRT_history_ODS_table(dataset_name=\"MRT_history\",create_table_name=\"ODS_MRT_history_usage\",SRC_table_name=\"SRC_MRT_history_usage\",client=BQ_CLIENT)"
   ]
  },
  {
   "cell_type": "code",
   "execution_count": null,
   "metadata": {},
   "outputs": [],
   "source": [
    "    # pattern = re.compile(r\"[A-Za-z]+\")\n",
    "    # df[\"進站\"] = df[\"進站\"].str.replace(pattern, \"\", regex=True)\n",
    "    # df[\"出站\"] = df[\"出站\"].str.replace(pattern, \"\", regex=True)\n",
    "    # df.rename(columns={\n",
    "    #     \"日期\": \"date\",\n",
    "    #     \"時段\": \"hour\",\n",
    "    #     \"進站\": \"mrt_station_name_enter\",\n",
    "    #     \"出站\": \"mrt_station_name_exit\",\n",
    "    #     \"人次\": \"visitors_num\"\n",
    "    # }, inplace=True)\n",
    "    # print(f\"T_mrt_usage_history finished\")"
   ]
  }
 ],
 "metadata": {
  "kernelspec": {
   "display_name": ".venv",
   "language": "python",
   "name": "python3"
  },
  "language_info": {
   "codemirror_mode": {
    "name": "ipython",
    "version": 3
   },
   "file_extension": ".py",
   "mimetype": "text/x-python",
   "name": "python",
   "nbconvert_exporter": "python",
   "pygments_lexer": "ipython3",
   "version": "3.10.9"
  }
 },
 "nbformat": 4,
 "nbformat_minor": 2
}
